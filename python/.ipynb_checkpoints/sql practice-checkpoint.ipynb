{
 "cells": [
  {
   "cell_type": "code",
   "execution_count": 27,
   "id": "479a6efb",
   "metadata": {},
   "outputs": [],
   "source": [
    "import pandas as pd\n",
    "import numpy as np\n",
    "import sqlite3"
   ]
  },
  {
   "cell_type": "code",
   "execution_count": 36,
   "id": "34e4ed6d",
   "metadata": {},
   "outputs": [],
   "source": [
    "## reading the csv file\n",
    "df1 = pd.read_csv('../data-sets/IDS_CSV/IDS_ALLCountries_Data.csv', sep=\",\", encoding='cp1252')\n",
    "df2 = pd.read_csv('../data-sets/IDS_CSV/IDS_Country-SeriesMetaData.csv', sep=\",\", encoding='cp1252')\n",
    "df3 = pd.read_csv('../data-sets/IDS_CSV/IDS_CountryMetaData.csv', sep=\",\", encoding='cp1252')\n",
    "df4 = pd.read_csv('../data-sets/IDS_CSV/IDS_Footnotes.csv', sep=\",\", encoding='cp1252')\n",
    "df5 = pd.read_csv('../data-sets/IDS_CSV/IDS_Series-TimeMetaData.csv', sep=\",\", encoding='cp1252')\n",
    "df6 = pd.read_csv('../data-sets/IDS_CSV/IDS_SeriesMetaData.csv', sep=\",\", encoding='cp1252')"
   ]
  },
  {
   "cell_type": "code",
   "execution_count": 37,
   "id": "4dec688e",
   "metadata": {},
   "outputs": [
    {
     "data": {
      "text/plain": [
       "Index(['Country Name', 'Country Code', 'Counterpart-Area Name',\n",
       "       'Counterpart-Area Code', 'Series Name', 'Series Code', '1970', '1971',\n",
       "       '1972', '1973', '1974', '1975', '1976', '1977', '1978', '1979', '1980',\n",
       "       '1981', '1982', '1983', '1984', '1985', '1986', '1987', '1988', '1989',\n",
       "       '1990', '1991', '1992', '1993', '1994', '1995', '1996', '1997', '1998',\n",
       "       '1999', '2000', '2001', '2002', '2003', '2004', '2005', '2006', '2007',\n",
       "       '2008', '2009', '2010', '2011', '2012', '2013', '2014', '2015', '2016',\n",
       "       '2017', '2018', '2019', '2020', '2021', '2022', '2023', '2024', '2025',\n",
       "       '2026', '2027', '2028'],\n",
       "      dtype='object')"
      ]
     },
     "execution_count": 37,
     "metadata": {},
     "output_type": "execute_result"
    }
   ],
   "source": [
    "## Removing spaces from the column name and adding '_' inbetween\n",
    "df1.columns"
   ]
  },
  {
   "cell_type": "code",
   "execution_count": 38,
   "id": "8eb14370",
   "metadata": {},
   "outputs": [],
   "source": [
    "df1.columns = df1.columns.str.replace(' ', '_') ## space to _\n",
    "df1.columns = df1.columns.str.replace('-', '_') ## - to _"
   ]
  },
  {
   "cell_type": "code",
   "execution_count": 39,
   "id": "de6b29a0",
   "metadata": {},
   "outputs": [
    {
     "data": {
      "text/plain": [
       "Index(['Country_Name', 'Country_Code', 'Counterpart_Area_Name',\n",
       "       'Counterpart_Area_Code', 'Series_Name', 'Series_Code', '1970', '1971',\n",
       "       '1972', '1973', '1974', '1975', '1976', '1977', '1978', '1979', '1980',\n",
       "       '1981', '1982', '1983', '1984', '1985', '1986', '1987', '1988', '1989',\n",
       "       '1990', '1991', '1992', '1993', '1994', '1995', '1996', '1997', '1998',\n",
       "       '1999', '2000', '2001', '2002', '2003', '2004', '2005', '2006', '2007',\n",
       "       '2008', '2009', '2010', '2011', '2012', '2013', '2014', '2015', '2016',\n",
       "       '2017', '2018', '2019', '2020', '2021', '2022', '2023', '2024', '2025',\n",
       "       '2026', '2027', '2028'],\n",
       "      dtype='object')"
      ]
     },
     "execution_count": 39,
     "metadata": {},
     "output_type": "execute_result"
    }
   ],
   "source": [
    "df1.columns"
   ]
  },
  {
   "cell_type": "code",
   "execution_count": 44,
   "id": "7da044d2",
   "metadata": {},
   "outputs": [
    {
     "name": "stdout",
     "output_type": "stream",
     "text": [
      "df1\n",
      "df2\n",
      "df3\n",
      "df4\n",
      "df5\n"
     ]
    }
   ],
   "source": [
    "for i in range(1,6):\n",
    "    df1.columns = df1.columns.str.replace(' ', '_') ## space to _\n",
    "    df1.columns = df1.columns.str.replace('-', '_') ## - to _"
   ]
  },
  {
   "cell_type": "code",
   "execution_count": 46,
   "id": "0164ffed",
   "metadata": {},
   "outputs": [
    {
     "ename": "SyntaxError",
     "evalue": "invalid syntax (1246967666.py, line 2)",
     "output_type": "error",
     "traceback": [
      "\u001b[0;36m  File \u001b[0;32m\"/var/folders/gq/nsqxf83n1813yysq2l8vvtxc0000gn/T/ipykernel_15173/1246967666.py\"\u001b[0;36m, line \u001b[0;32m2\u001b[0m\n\u001b[0;31m    df{i}.columns = df1.columns.str.replace(' ', '_') ## space to _\u001b[0m\n\u001b[0m      ^\u001b[0m\n\u001b[0;31mSyntaxError\u001b[0m\u001b[0;31m:\u001b[0m invalid syntax\n"
     ]
    }
   ],
   "source": [
    "for i in range(1,6):\n",
    "    df1.columns = df1.columns.str.replace(' ', '_') ## space to _\n",
    "    df1.columns = df1.columns.str.replace('-', '_') ## - to _"
   ]
  },
  {
   "cell_type": "code",
   "execution_count": 40,
   "id": "1e81b281",
   "metadata": {},
   "outputs": [],
   "source": [
    "## Storing back to csv\n",
    "df1.to_csv('../modified data-sets/IDS_ALLCountries_Data-1.csv', encoding='utf-8' , index=False)"
   ]
  },
  {
   "cell_type": "markdown",
   "id": "9aa73e65",
   "metadata": {},
   "source": [
    "## Importing the data-set"
   ]
  },
  {
   "cell_type": "code",
   "execution_count": 7,
   "id": "e8eee350",
   "metadata": {},
   "outputs": [
    {
     "data": {
      "text/html": [
       "<div>\n",
       "<style scoped>\n",
       "    .dataframe tbody tr th:only-of-type {\n",
       "        vertical-align: middle;\n",
       "    }\n",
       "\n",
       "    .dataframe tbody tr th {\n",
       "        vertical-align: top;\n",
       "    }\n",
       "\n",
       "    .dataframe thead th {\n",
       "        text-align: right;\n",
       "    }\n",
       "</style>\n",
       "<table border=\"1\" class=\"dataframe\">\n",
       "  <thead>\n",
       "    <tr style=\"text-align: right;\">\n",
       "      <th></th>\n",
       "      <th>Country_Name</th>\n",
       "      <th>Country_Code</th>\n",
       "      <th>Counterpart_Area_Name</th>\n",
       "      <th>Counterpart_Area_Code</th>\n",
       "      <th>Series_Name</th>\n",
       "      <th>Series_Code</th>\n",
       "      <th>1970</th>\n",
       "      <th>1971</th>\n",
       "      <th>1972</th>\n",
       "      <th>1973</th>\n",
       "      <th>...</th>\n",
       "      <th>2019</th>\n",
       "      <th>2020</th>\n",
       "      <th>2021</th>\n",
       "      <th>2022</th>\n",
       "      <th>2023</th>\n",
       "      <th>2024</th>\n",
       "      <th>2025</th>\n",
       "      <th>2026</th>\n",
       "      <th>2027</th>\n",
       "      <th>2028</th>\n",
       "    </tr>\n",
       "  </thead>\n",
       "  <tbody>\n",
       "    <tr>\n",
       "      <th>0</th>\n",
       "      <td>Afghanistan</td>\n",
       "      <td>AFG</td>\n",
       "      <td>World</td>\n",
       "      <td>WLD</td>\n",
       "      <td>Average grace period on new external debt comm...</td>\n",
       "      <td>DT.GPA.DPPG</td>\n",
       "      <td>NaN</td>\n",
       "      <td>NaN</td>\n",
       "      <td>NaN</td>\n",
       "      <td>NaN</td>\n",
       "      <td>...</td>\n",
       "      <td>17.9041</td>\n",
       "      <td>0.0</td>\n",
       "      <td>NaN</td>\n",
       "      <td>NaN</td>\n",
       "      <td>NaN</td>\n",
       "      <td>NaN</td>\n",
       "      <td>NaN</td>\n",
       "      <td>NaN</td>\n",
       "      <td>NaN</td>\n",
       "      <td>NaN</td>\n",
       "    </tr>\n",
       "    <tr>\n",
       "      <th>1</th>\n",
       "      <td>Afghanistan</td>\n",
       "      <td>AFG</td>\n",
       "      <td>World</td>\n",
       "      <td>WLD</td>\n",
       "      <td>Average grace period on new external debt comm...</td>\n",
       "      <td>DT.GPA.OFFT</td>\n",
       "      <td>NaN</td>\n",
       "      <td>NaN</td>\n",
       "      <td>NaN</td>\n",
       "      <td>NaN</td>\n",
       "      <td>...</td>\n",
       "      <td>17.9041</td>\n",
       "      <td>0.0</td>\n",
       "      <td>NaN</td>\n",
       "      <td>NaN</td>\n",
       "      <td>NaN</td>\n",
       "      <td>NaN</td>\n",
       "      <td>NaN</td>\n",
       "      <td>NaN</td>\n",
       "      <td>NaN</td>\n",
       "      <td>NaN</td>\n",
       "    </tr>\n",
       "    <tr>\n",
       "      <th>2</th>\n",
       "      <td>Afghanistan</td>\n",
       "      <td>AFG</td>\n",
       "      <td>World</td>\n",
       "      <td>WLD</td>\n",
       "      <td>Average grace period on new external debt comm...</td>\n",
       "      <td>DT.GPA.PRVT</td>\n",
       "      <td>NaN</td>\n",
       "      <td>NaN</td>\n",
       "      <td>NaN</td>\n",
       "      <td>NaN</td>\n",
       "      <td>...</td>\n",
       "      <td>0.0000</td>\n",
       "      <td>0.0</td>\n",
       "      <td>NaN</td>\n",
       "      <td>NaN</td>\n",
       "      <td>NaN</td>\n",
       "      <td>NaN</td>\n",
       "      <td>NaN</td>\n",
       "      <td>NaN</td>\n",
       "      <td>NaN</td>\n",
       "      <td>NaN</td>\n",
       "    </tr>\n",
       "    <tr>\n",
       "      <th>3</th>\n",
       "      <td>Afghanistan</td>\n",
       "      <td>AFG</td>\n",
       "      <td>World</td>\n",
       "      <td>WLD</td>\n",
       "      <td>Average grant element on new external debt com...</td>\n",
       "      <td>DT.GRE.DPPG</td>\n",
       "      <td>NaN</td>\n",
       "      <td>NaN</td>\n",
       "      <td>NaN</td>\n",
       "      <td>NaN</td>\n",
       "      <td>...</td>\n",
       "      <td>73.0790</td>\n",
       "      <td>0.0</td>\n",
       "      <td>NaN</td>\n",
       "      <td>NaN</td>\n",
       "      <td>NaN</td>\n",
       "      <td>NaN</td>\n",
       "      <td>NaN</td>\n",
       "      <td>NaN</td>\n",
       "      <td>NaN</td>\n",
       "      <td>NaN</td>\n",
       "    </tr>\n",
       "    <tr>\n",
       "      <th>4</th>\n",
       "      <td>Afghanistan</td>\n",
       "      <td>AFG</td>\n",
       "      <td>World</td>\n",
       "      <td>WLD</td>\n",
       "      <td>Average grant element on new external debt com...</td>\n",
       "      <td>DT.GRE.OFFT</td>\n",
       "      <td>NaN</td>\n",
       "      <td>NaN</td>\n",
       "      <td>NaN</td>\n",
       "      <td>NaN</td>\n",
       "      <td>...</td>\n",
       "      <td>73.0790</td>\n",
       "      <td>0.0</td>\n",
       "      <td>NaN</td>\n",
       "      <td>NaN</td>\n",
       "      <td>NaN</td>\n",
       "      <td>NaN</td>\n",
       "      <td>NaN</td>\n",
       "      <td>NaN</td>\n",
       "      <td>NaN</td>\n",
       "      <td>NaN</td>\n",
       "    </tr>\n",
       "  </tbody>\n",
       "</table>\n",
       "<p>5 rows × 65 columns</p>\n",
       "</div>"
      ],
      "text/plain": [
       "  Country_Name Country_Code Counterpart_Area_Name Counterpart_Area_Code  \\\n",
       "0  Afghanistan          AFG                 World                   WLD   \n",
       "1  Afghanistan          AFG                 World                   WLD   \n",
       "2  Afghanistan          AFG                 World                   WLD   \n",
       "3  Afghanistan          AFG                 World                   WLD   \n",
       "4  Afghanistan          AFG                 World                   WLD   \n",
       "\n",
       "                                         Series_Name  Series_Code  1970  1971  \\\n",
       "0  Average grace period on new external debt comm...  DT.GPA.DPPG   NaN   NaN   \n",
       "1  Average grace period on new external debt comm...  DT.GPA.OFFT   NaN   NaN   \n",
       "2  Average grace period on new external debt comm...  DT.GPA.PRVT   NaN   NaN   \n",
       "3  Average grant element on new external debt com...  DT.GRE.DPPG   NaN   NaN   \n",
       "4  Average grant element on new external debt com...  DT.GRE.OFFT   NaN   NaN   \n",
       "\n",
       "   1972  1973  ...     2019  2020  2021  2022  2023  2024  2025  2026  2027  \\\n",
       "0   NaN   NaN  ...  17.9041   0.0   NaN   NaN   NaN   NaN   NaN   NaN   NaN   \n",
       "1   NaN   NaN  ...  17.9041   0.0   NaN   NaN   NaN   NaN   NaN   NaN   NaN   \n",
       "2   NaN   NaN  ...   0.0000   0.0   NaN   NaN   NaN   NaN   NaN   NaN   NaN   \n",
       "3   NaN   NaN  ...  73.0790   0.0   NaN   NaN   NaN   NaN   NaN   NaN   NaN   \n",
       "4   NaN   NaN  ...  73.0790   0.0   NaN   NaN   NaN   NaN   NaN   NaN   NaN   \n",
       "\n",
       "   2028  \n",
       "0   NaN  \n",
       "1   NaN  \n",
       "2   NaN  \n",
       "3   NaN  \n",
       "4   NaN  \n",
       "\n",
       "[5 rows x 65 columns]"
      ]
     },
     "execution_count": 7,
     "metadata": {},
     "output_type": "execute_result"
    }
   ],
   "source": [
    "## reading the csv file\n",
    "df1 = pd.read_csv('../modified data-sets/IDS_ALLCountries_Data-1.csv')\n",
    "df1.head()"
   ]
  },
  {
   "cell_type": "code",
   "execution_count": 8,
   "id": "6e1bfc9b",
   "metadata": {},
   "outputs": [],
   "source": [
    "#connect to a database\n",
    "conn = sqlite3.connect(\"../sql data-base/all_countries.db\") "
   ]
  },
  {
   "cell_type": "code",
   "execution_count": 10,
   "id": "aeaad0b0",
   "metadata": {},
   "outputs": [],
   "source": [
    "#store your table in the database:\n",
    "df1.to_sql('../sql data-base/all_countries', conn)"
   ]
  },
  {
   "cell_type": "markdown",
   "id": "55c48ed9",
   "metadata": {},
   "source": [
    "## 1) Finding the number of distinct countries"
   ]
  },
  {
   "cell_type": "code",
   "execution_count": 12,
   "id": "6ba14380",
   "metadata": {},
   "outputs": [],
   "source": [
    "query1 = 'select distinct Country_Name from all_countries'\n",
    "ans1 = pd.read_sql(query1, conn)"
   ]
  },
  {
   "cell_type": "code",
   "execution_count": 15,
   "id": "c0d5a143",
   "metadata": {},
   "outputs": [
    {
     "data": {
      "text/html": [
       "<div>\n",
       "<style scoped>\n",
       "    .dataframe tbody tr th:only-of-type {\n",
       "        vertical-align: middle;\n",
       "    }\n",
       "\n",
       "    .dataframe tbody tr th {\n",
       "        vertical-align: top;\n",
       "    }\n",
       "\n",
       "    .dataframe thead th {\n",
       "        text-align: right;\n",
       "    }\n",
       "</style>\n",
       "<table border=\"1\" class=\"dataframe\">\n",
       "  <thead>\n",
       "    <tr style=\"text-align: right;\">\n",
       "      <th></th>\n",
       "      <th>Country_Name</th>\n",
       "    </tr>\n",
       "  </thead>\n",
       "  <tbody>\n",
       "    <tr>\n",
       "      <th>0</th>\n",
       "      <td>Afghanistan</td>\n",
       "    </tr>\n",
       "    <tr>\n",
       "      <th>1</th>\n",
       "      <td>Albania</td>\n",
       "    </tr>\n",
       "    <tr>\n",
       "      <th>2</th>\n",
       "      <td>Algeria</td>\n",
       "    </tr>\n",
       "    <tr>\n",
       "      <th>3</th>\n",
       "      <td>Angola</td>\n",
       "    </tr>\n",
       "    <tr>\n",
       "      <th>4</th>\n",
       "      <td>Argentina</td>\n",
       "    </tr>\n",
       "  </tbody>\n",
       "</table>\n",
       "</div>"
      ],
      "text/plain": [
       "  Country_Name\n",
       "0  Afghanistan\n",
       "1      Albania\n",
       "2      Algeria\n",
       "3       Angola\n",
       "4    Argentina"
      ]
     },
     "execution_count": 15,
     "metadata": {},
     "output_type": "execute_result"
    }
   ],
   "source": [
    "ans1.head()"
   ]
  },
  {
   "cell_type": "code",
   "execution_count": 17,
   "id": "9247b808",
   "metadata": {},
   "outputs": [
    {
     "name": "stdout",
     "output_type": "stream",
     "text": [
      "Number of Distinct Countries :  139\n"
     ]
    }
   ],
   "source": [
    "print(\"Number of Distinct Countries : \",len(ans1))"
   ]
  },
  {
   "cell_type": "markdown",
   "id": "b19bfd12",
   "metadata": {},
   "source": [
    "## 2) Finding out the distinct debt indicators"
   ]
  },
  {
   "cell_type": "code",
   "execution_count": 20,
   "id": "6537ccb7",
   "metadata": {},
   "outputs": [],
   "source": [
    "query2 = 'select distinct Country_Code as \"Distinct Dept Indicator\" from all_countries'\n",
    "ans2 = pd.read_sql(query2, conn)"
   ]
  },
  {
   "cell_type": "code",
   "execution_count": 22,
   "id": "39afe816",
   "metadata": {},
   "outputs": [
    {
     "data": {
      "text/html": [
       "<div>\n",
       "<style scoped>\n",
       "    .dataframe tbody tr th:only-of-type {\n",
       "        vertical-align: middle;\n",
       "    }\n",
       "\n",
       "    .dataframe tbody tr th {\n",
       "        vertical-align: top;\n",
       "    }\n",
       "\n",
       "    .dataframe thead th {\n",
       "        text-align: right;\n",
       "    }\n",
       "</style>\n",
       "<table border=\"1\" class=\"dataframe\">\n",
       "  <thead>\n",
       "    <tr style=\"text-align: right;\">\n",
       "      <th></th>\n",
       "      <th>Distinct Dept Indicator</th>\n",
       "    </tr>\n",
       "  </thead>\n",
       "  <tbody>\n",
       "    <tr>\n",
       "      <th>0</th>\n",
       "      <td>AFG</td>\n",
       "    </tr>\n",
       "    <tr>\n",
       "      <th>1</th>\n",
       "      <td>ALB</td>\n",
       "    </tr>\n",
       "    <tr>\n",
       "      <th>2</th>\n",
       "      <td>DZA</td>\n",
       "    </tr>\n",
       "    <tr>\n",
       "      <th>3</th>\n",
       "      <td>AGO</td>\n",
       "    </tr>\n",
       "    <tr>\n",
       "      <th>4</th>\n",
       "      <td>ARG</td>\n",
       "    </tr>\n",
       "  </tbody>\n",
       "</table>\n",
       "</div>"
      ],
      "text/plain": [
       "  Distinct Dept Indicator\n",
       "0                     AFG\n",
       "1                     ALB\n",
       "2                     DZA\n",
       "3                     AGO\n",
       "4                     ARG"
      ]
     },
     "execution_count": 22,
     "metadata": {},
     "output_type": "execute_result"
    }
   ],
   "source": [
    "ans2.head()"
   ]
  },
  {
   "cell_type": "code",
   "execution_count": 23,
   "id": "1f98a3e3",
   "metadata": {},
   "outputs": [
    {
     "name": "stdout",
     "output_type": "stream",
     "text": [
      "Number of Distinct Dept Indicators :  137\n"
     ]
    }
   ],
   "source": [
    "print(\"Number of Distinct Dept Indicators : \",len(ans2))"
   ]
  },
  {
   "cell_type": "code",
   "execution_count": null,
   "id": "bb65416c",
   "metadata": {},
   "outputs": [],
   "source": []
  }
 ],
 "metadata": {
  "kernelspec": {
   "display_name": "Python 3 (ipykernel)",
   "language": "python",
   "name": "python3"
  },
  "language_info": {
   "codemirror_mode": {
    "name": "ipython",
    "version": 3
   },
   "file_extension": ".py",
   "mimetype": "text/x-python",
   "name": "python",
   "nbconvert_exporter": "python",
   "pygments_lexer": "ipython3",
   "version": "3.9.7"
  }
 },
 "nbformat": 4,
 "nbformat_minor": 5
}
